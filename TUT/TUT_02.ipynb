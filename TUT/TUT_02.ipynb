{
 "cells": [
  {
   "cell_type": "code",
   "execution_count": null,
   "id": "649c6274-eafa-496f-b798-07358e2f46b5",
   "metadata": {},
   "outputs": [],
   "source": []
  },
  {
   "cell_type": "code",
   "execution_count": 1,
   "id": "7fa7db1d-c317-47ca-85e4-4c343b79ccdb",
   "metadata": {},
   "outputs": [
    {
     "name": "stdout",
     "output_type": "stream",
     "text": [
      "[1, 20, 4, 5]\n"
     ]
    }
   ],
   "source": [
    "# Defining a list\n",
    "my_list = [1, 2, 3, 4]\n",
    "\n",
    "# Modifying the list (changing, adding, and removing elements)\n",
    "my_list[1] = 20    # Changing the second element\n",
    "my_list.append(5)  # Adding an element\n",
    "my_list.remove(3)  # Removing an element\n",
    "\n",
    "print(my_list)  # Output: [1, 20, 4, 5]\n"
   ]
  },
  {
   "cell_type": "code",
   "execution_count": 9,
   "id": "0cc5587b-f317-49e1-9ed2-04bd9d775826",
   "metadata": {},
   "outputs": [
    {
     "name": "stdout",
     "output_type": "stream",
     "text": [
      "(1, 2, 3, 4)\n"
     ]
    }
   ],
   "source": [
    "# Defining a tuple\n",
    "my_tuple = (1, 2, 3, 4)\n",
    "\n",
    "# Trying to modify the tuple will raise an error\n",
    "# my_tuple[1] = 20  # Uncommenting this will cause a TypeError\n",
    "\n",
    "print(my_tuple)  # Output: (1, 2, 3, 4)\n"
   ]
  },
  {
   "cell_type": "code",
   "execution_count": 3,
   "id": "8e586f30-28b6-455c-a34e-4fe93b60dd77",
   "metadata": {},
   "outputs": [
    {
     "ename": "IndexError",
     "evalue": "list index out of range",
     "output_type": "error",
     "traceback": [
      "\u001b[0;31m---------------------------------------------------------------------------\u001b[0m",
      "\u001b[0;31mIndexError\u001b[0m                                Traceback (most recent call last)",
      "Cell \u001b[0;32mIn[3], line 1\u001b[0m\n\u001b[0;32m----> 1\u001b[0m my_list[\u001b[38;5;241m4\u001b[39m]\n",
      "\u001b[0;31mIndexError\u001b[0m: list index out of range"
     ]
    }
   ],
   "source": [
    "my_list[4]"
   ]
  },
  {
   "cell_type": "code",
   "execution_count": 13,
   "id": "69d6f48f-8e0d-4618-837a-0f6aed849740",
   "metadata": {},
   "outputs": [
    {
     "ename": "TypeError",
     "evalue": "'tuple' object does not support item assignment",
     "output_type": "error",
     "traceback": [
      "\u001b[0;31m---------------------------------------------------------------------------\u001b[0m",
      "\u001b[0;31mTypeError\u001b[0m                                 Traceback (most recent call last)",
      "Cell \u001b[0;32mIn[13], line 1\u001b[0m\n\u001b[0;32m----> 1\u001b[0m my_tuple[\u001b[38;5;241m0\u001b[39m] \u001b[38;5;241m=\u001b[39m \u001b[38;5;241m1\u001b[39m\n",
      "\u001b[0;31mTypeError\u001b[0m: 'tuple' object does not support item assignment"
     ]
    }
   ],
   "source": [
    "my_tuple[0] = 1"
   ]
  },
  {
   "cell_type": "code",
   "execution_count": 15,
   "id": "5e616b66-c8b2-4793-bd2e-4690ab85f34b",
   "metadata": {},
   "outputs": [
    {
     "name": "stdout",
     "output_type": "stream",
     "text": [
      "1\n",
      "20\n"
     ]
    }
   ],
   "source": [
    "print(my_tuple[0])\n",
    "print(my_list[1])"
   ]
  },
  {
   "cell_type": "code",
   "execution_count": 29,
   "id": "c283ca22-dee2-4378-b394-f81b706db195",
   "metadata": {},
   "outputs": [
    {
     "name": "stdout",
     "output_type": "stream",
     "text": [
      "(2, 3)\n"
     ]
    }
   ],
   "source": [
    "print(my_tuple[1:3]) #slicing"
   ]
  },
  {
   "cell_type": "code",
   "execution_count": 76,
   "id": "428560db-5eae-440a-8529-0208d89d6b71",
   "metadata": {},
   "outputs": [
    {
     "name": "stdout",
     "output_type": "stream",
     "text": [
      "(1, (2, 3), (4, 5))\n"
     ]
    },
    {
     "data": {
      "text/plain": [
       "3"
      ]
     },
     "execution_count": 76,
     "metadata": {},
     "output_type": "execute_result"
    }
   ],
   "source": [
    "# In python you define objects like strings, tuples ... \n",
    "# A tuple of tuples / Nested Tuples \n",
    "nested_tuples = (1, (2, 3), (4, 5))\n",
    "print(nested_tuples)\n",
    "\n",
    "len(nested_tuples)"
   ]
  },
  {
   "cell_type": "code",
   "execution_count": 66,
   "id": "ca54cc0a-7709-4023-a26e-dc969dd31c5c",
   "metadata": {},
   "outputs": [
    {
     "data": {
      "text/plain": [
       "2"
      ]
     },
     "execution_count": 66,
     "metadata": {},
     "output_type": "execute_result"
    }
   ],
   "source": [
    "my_tuple = (1, 2, 2, 3, 3)\n",
    "# Two \"2\" in the tuple \n",
    "my_tuple.count(2)"
   ]
  },
  {
   "cell_type": "code",
   "execution_count": 70,
   "id": "1cdada25-515c-48cd-89a2-2fee5ced4aca",
   "metadata": {},
   "outputs": [
    {
     "data": {
      "text/plain": [
       "(1, 2, 3, 4)"
      ]
     },
     "execution_count": 70,
     "metadata": {},
     "output_type": "execute_result"
    }
   ],
   "source": [
    "# Concatenation. \n",
    "my_tuple = (1, 2)\n",
    "my_tuple2 = (3, 4)\n",
    "my_final_tuple = my_tuple + my_tuple2\n",
    "my_final_tuple"
   ]
  },
  {
   "cell_type": "code",
   "execution_count": 94,
   "id": "ca523dbd-78c4-4798-8f32-c3d8f3d34b6b",
   "metadata": {},
   "outputs": [
    {
     "name": "stdout",
     "output_type": "stream",
     "text": [
      "[1, 'hi', True, 3.14]\n",
      "[]\n"
     ]
    },
    {
     "data": {
      "text/plain": [
       "[1, 'hi', True]"
      ]
     },
     "execution_count": 94,
     "metadata": {},
     "output_type": "execute_result"
    }
   ],
   "source": [
    "# Mixed Lists \n",
    "mixed_list = [1, 'hi', True, 3.14]\n",
    "print(mixed_list)\n",
    "\n",
    "# Empty List\n",
    "empty_list = []\n",
    "print(empty_list)\n",
    "\n",
    "# Accessing Lists / Slicing Lists \n",
    "mixed_list[:3]\n",
    "# Modify Lists \n"
   ]
  },
  {
   "cell_type": "code",
   "execution_count": 118,
   "id": "a81b4d15-205d-4b0d-b639-753daf7d850a",
   "metadata": {},
   "outputs": [
    {
     "name": "stdout",
     "output_type": "stream",
     "text": [
      "{'name': 'Alice', 'age': 30, 'profession': 'Engineer'}\n",
      "{'name': 'Bob', 'age': 25, 'is_students': True, 'grades': [88, 92, 85]}\n",
      "{'name': 'Bob', 'age': 25, 'is_students': True, 'grades': [88, 92, 85], 'hi': True}\n",
      "{'name': 'Bob', 'age': 25, 'is_students': True, 'grades': [88, 92, 85]}\n"
     ]
    },
    {
     "data": {
      "text/plain": [
       "{'name': 'Bob', 'age': 30, 'is_students': True, 'grades': [88, 92, 85]}"
      ]
     },
     "execution_count": 118,
     "metadata": {},
     "output_type": "execute_result"
    }
   ],
   "source": [
    "# Demonstrate the dict function \n",
    "# Creating a dictionary with dict()\n",
    "person = dict(name=\"Alice\", age=30, profession=\"Engineer\")\n",
    "\n",
    "print(person)  \n",
    "# Output: {'name': 'Alice', 'age': 30, 'profession': 'Engineer'}\n",
    "\n",
    "my_dict = {\n",
    "    \"name\": \"Bob\",\n",
    "    \"age\": 25,\n",
    "    \"is_students\": True,\n",
    "    \"grades\": [88, 92, 85]\n",
    "}\n",
    "\n",
    "print(my_dict)\n",
    "\n",
    "# Add to a list \n",
    "my_dict['hi'] = True\n",
    "\n",
    "print(my_dict)\n",
    "\n",
    "# Delete from a lsit \n",
    "my_dict.pop('hi')\n",
    "\n",
    "print(my_dict)\n",
    "\n",
    "# Edit a list \n",
    "my_dict[\"age\"] = 30\n",
    "\n",
    "my_dict"
   ]
  },
  {
   "cell_type": "code",
   "execution_count": 104,
   "id": "e3bfc7e9-5eee-45b3-a721-2e08fc6e2d3d",
   "metadata": {},
   "outputs": [
    {
     "name": "stdout",
     "output_type": "stream",
     "text": [
      "Alice\n",
      "Alice\n"
     ]
    }
   ],
   "source": [
    "# Accessing dictionaries \n",
    "print(person['name'])\n",
    "print(person.get('name'))"
   ]
  },
  {
   "cell_type": "code",
   "execution_count": 122,
   "id": "3ccec66d-4632-41a4-8406-ebc64f83c16b",
   "metadata": {},
   "outputs": [
    {
     "name": "stdout",
     "output_type": "stream",
     "text": [
      "[1 2 3 4]\n",
      "[[1 2 3]\n",
      " [4 5 6]]\n"
     ]
    }
   ],
   "source": [
    "import numpy as np\n",
    "\n",
    "# Create an array\n",
    "arr = np.array([1, 2, 3, 4])\n",
    "print(arr)  # Output: [1 2 3 4]\n",
    "\n",
    "# Creating a 2D array\n",
    "arr_2d = np.array([[1, 2, 3], [4, 5, 6]])\n",
    "print(arr_2d)\n",
    "# Output:\n",
    "# [[1 2 3]\n",
    "#  [4 5 6]]\n"
   ]
  },
  {
   "cell_type": "code",
   "execution_count": 138,
   "id": "51eccdd2-cc2d-4846-9822-58015ce1c1be",
   "metadata": {},
   "outputs": [
    {
     "name": "stdout",
     "output_type": "stream",
     "text": [
      "[5 7 9]\n",
      "[ 4 10 18]\n",
      "[  1  32 729]\n"
     ]
    }
   ],
   "source": [
    "# Operations \n",
    "\n",
    "a = np.array([1, 2, 3])\n",
    "b = np.array([4, 5, 6])\n",
    "\n",
    "print(a + b)\n",
    "\n",
    "print(a * b)\n",
    "\n",
    "print(a ** b)\n"
   ]
  },
  {
   "cell_type": "code",
   "execution_count": 142,
   "id": "5b81ffc4-400d-4a03-8591-0ac310892b9f",
   "metadata": {},
   "outputs": [
    {
     "data": {
      "text/plain": [
       "array([[0., 0.],\n",
       "       [0., 0.],\n",
       "       [0., 0.]])"
      ]
     },
     "execution_count": 142,
     "metadata": {},
     "output_type": "execute_result"
    }
   ],
   "source": [
    "# Create 3 x 2 array \n",
    "empty_arr = np.zeros((3, 2))\n",
    "empty_arr"
   ]
  },
  {
   "cell_type": "code",
   "execution_count": 144,
   "id": "fbc68adf-5ee1-4051-b8c0-09ffbeb7d7ec",
   "metadata": {},
   "outputs": [
    {
     "name": "stdout",
     "output_type": "stream",
     "text": [
      "[2, 4, 6, 8, 10]\n"
     ]
    }
   ],
   "source": [
    "# Can you find even numbers \n",
    "\n",
    "numbers = [1, 2, 3, 4, 5, 6, 7, 8, 9, 10]\n",
    "even_numbers = [num for num in numbers if num % 2 == 0]\n",
    "print(even_numbers)\n",
    "\n",
    "# Find even numbers in a list. "
   ]
  },
  {
   "cell_type": "code",
   "execution_count": 206,
   "id": "c57e2d59-90f9-434e-a63b-d061386c89e5",
   "metadata": {},
   "outputs": [
    {
     "data": {
      "text/plain": [
       "66.3"
      ]
     },
     "execution_count": 206,
     "metadata": {},
     "output_type": "execute_result"
    }
   ],
   "source": [
    "import numpy as np\n",
    "all_door_options = (1, 2, 3)\n",
    "my_door_choice = 1 # 1, 2, 3\n",
    "i_won = 0\n",
    "reps = 10000\n",
    "for i in range(reps):\n",
    "    secret_winning_door = np.random.choice(all_door_options)\n",
    "    all_door_options_list = list(all_door_options)\n",
    "    # Take the secret winning door, so we don't show it as a \"goat\" losing\n",
    "    all_door_options_list.remove(secret_winning_door)\n",
    "    try:\n",
    "        all_door_options_list.remove(my_door_choice)\n",
    "    except:\n",
    "        pass\n",
    "    # show a \"goat\" losing door and remove it\n",
    "    goat_door_reveal = np.random.choice(all_door_options_list)\n",
    "    all_door_options_list.remove(goat_door_reveal)\n",
    "\n",
    "    # put secret winning door back in if it wasn't our choice\n",
    "    # we previously removed it, so it would be shown as a \"goat\" losing. \n",
    "    if secret_winning_door != my_door_choice:\n",
    "        all_door_options_list.append(secret_winning_door)\n",
    "\n",
    "    my_door_choice = all_door_options_list[0]\n",
    "\n",
    "    if my_door_choice == secret_winning_door:\n",
    "        i_won += 1\n",
    "\n",
    "i_won / reps * 100"
   ]
  },
  {
   "cell_type": "code",
   "execution_count": 208,
   "id": "e08d66f0-59b0-47be-878b-93ad93cd5896",
   "metadata": {},
   "outputs": [
    {
     "name": "stdout",
     "output_type": "stream",
     "text": [
      "Winning percentage when switching: 67.13%\n",
      "Winning percentage when staying: 33.31%\n"
     ]
    }
   ],
   "source": [
    "import numpy as np\n",
    "\n",
    "def monty_hall_simulation(num_trials=10000, switch=True):\n",
    "    wins = 0\n",
    "\n",
    "    for _ in range(num_trials):\n",
    "        # Randomly assign the car behind one of the three doors\n",
    "        doors = [0, 1, 2]\n",
    "        car_door = np.random.choice(doors)\n",
    "        \n",
    "        # Player randomly picks one of the doors\n",
    "        player_choice = np.random.choice(doors)\n",
    "        \n",
    "        # Monty opens a door that has a goat (and is not the player's choice)\n",
    "        remaining_doors = [door for door in doors if door != player_choice and door != car_door]\n",
    "        monty_opens = np.random.choice(remaining_doors)\n",
    "        \n",
    "        # If the player switches, they choose the other remaining door\n",
    "        if switch:\n",
    "            player_choice = [door for door in doors if door != player_choice and door != monty_opens][0]\n",
    "        \n",
    "        # Check if the player wins (if their final choice is the car door)\n",
    "        if player_choice == car_door:\n",
    "            wins += 1\n",
    "    \n",
    "    win_percentage = (wins / num_trials) * 100\n",
    "    return win_percentage\n",
    "\n",
    "# Run the simulation\n",
    "num_trials = 10000\n",
    "switch_win_percentage = monty_hall_simulation(num_trials=num_trials, switch=True)\n",
    "stay_win_percentage = monty_hall_simulation(num_trials=num_trials, switch=False)\n",
    "\n",
    "print(f\"Winning percentage when switching: {switch_win_percentage:.2f}%\")\n",
    "print(f\"Winning percentage when staying: {stay_win_percentage:.2f}%\")\n"
   ]
  },
  {
   "cell_type": "code",
   "execution_count": null,
   "id": "41398fda-256f-4fde-a9d2-559420b2b124",
   "metadata": {},
   "outputs": [],
   "source": []
  }
 ],
 "metadata": {
  "kernelspec": {
   "display_name": "Python 3 (ipykernel)",
   "language": "python",
   "name": "python3"
  },
  "language_info": {
   "codemirror_mode": {
    "name": "ipython",
    "version": 3
   },
   "file_extension": ".py",
   "mimetype": "text/x-python",
   "name": "python",
   "nbconvert_exporter": "python",
   "pygments_lexer": "ipython3",
   "version": "3.12.2"
  }
 },
 "nbformat": 4,
 "nbformat_minor": 5
}
